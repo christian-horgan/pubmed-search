{
 "cells": [
  {
   "cell_type": "markdown",
   "metadata": {},
   "source": [
    "# Main Program\n",
    "## Search PubMed with a given list of grant numbers\n",
    "#### All functions used can be referenced in search_mthds notebook "
   ]
  },
  {
   "cell_type": "code",
   "execution_count": 1,
   "metadata": {},
   "outputs": [],
   "source": [
    "%run search_mthds.ipynb\n",
    "\n",
    "import pandas as pd\n",
    "import time\n",
    "from tqdm import tqdm\n",
    "\n",
    "template_df = pd.DataFrame(columns = ['title', 'authors', 'dois', 'keywords', 'grant_num']) #create an empty dataframe where grant article info will be stored\n",
    "grant_list = ['AA029328','AA029331', 'AA029345','AA029324','AA029316','AA029348','DC019579','DC019578','DC019573','DC016112','TR003780',\n",
    "'TR003807','TR003793','HL119145','NR020105','DE031114','MD016526','DK130067','HL150852','DE030841','HL119145','DE030842','HL152410',\n",
    "'HL119145','HL119145','HL152401','DE030829','DE030852','DE030832','HD105618', 'HD105593','HD105594','HD105591','HD105619',\n",
    "'HD105590','HD105613','HD105610','TR003775','TR003795','TR003787','TR003812','DA053976','DA053949','DA053941','DA053903',\n",
    "'DA053893','LM013129','DA053899','Z01-ES100475']\n",
    "#grant list is subject to change and can be more general, but this form of grant numbers give the best results\n"
   ]
  },
  {
   "cell_type": "markdown",
   "metadata": {},
   "source": [
    "### Main loop creating data table"
   ]
  },
  {
   "cell_type": "code",
   "execution_count": 2,
   "metadata": {},
   "outputs": [
    {
     "name": "stderr",
     "output_type": "stream",
     "text": [
      "  0%|          | 0/49 [00:00<?, ?it/s]"
     ]
    },
    {
     "name": "stderr",
     "output_type": "stream",
     "text": [
      "100%|██████████| 49/49 [01:39<00:00,  2.04s/it]\n"
     ]
    }
   ],
   "source": [
    "for grant in tqdm(grant_list): #Create a loop to iterate and gather information for each grant number from the list\n",
    "    myIDs = returnIDs(grant) #grab article PubMed ID list\n",
    "    if myIDs == 'Nothing Found': #move onto the next grant number if no articles were found\n",
    "        time.sleep(1)\n",
    "        continue\n",
    "    art_info = get_summary(myIDs) #gather all article information via esummary\n",
    "    titles = get_titles(art_info) #gather titles of all articles; return dictionary \n",
    "    authors = get_authors(art_info) #gather authors of all articles\n",
    "    dois = get_DOI(art_info) #gather all dois and additional article identifier if available\n",
    "    keywords = get_keywords(myIDs) #gather all keywords for each article\n",
    "    mydf = pd.DataFrame.from_dict(titles, orient='index', columns = ['title']) #initialize a blank dataframe with PubMed ids as row indices and a title column\n",
    "    mydf['authors'] = pd.Series(authors) #add each column with the stored information above\n",
    "    mydf['dois'] = pd.Series(dois)\n",
    "    mydf['keywords'] = pd.Series(keywords)\n",
    "    mydf['grant_num'] = grant #make a new column with the grant number that corresponds to the current iteration of articles\n",
    "    template_df = pd.concat([template_df, mydf], ignore_index = False) #append the current df to over dataframe\n",
    "    time.sleep(1) #need to wait to avoid hitting the limit of 3 requests per second\n",
    "\n"
   ]
  },
  {
   "cell_type": "markdown",
   "metadata": {},
   "source": [
    "### Write the dataframe to a csv file in your current working directory"
   ]
  },
  {
   "cell_type": "code",
   "execution_count": 3,
   "metadata": {},
   "outputs": [],
   "source": [
    "#template_df.to_csv('article_data_Update.csv')"
   ]
  },
  {
   "cell_type": "code",
   "execution_count": null,
   "metadata": {},
   "outputs": [],
   "source": []
  }
 ],
 "metadata": {
  "kernelspec": {
   "display_name": "base",
   "language": "python",
   "name": "python3"
  },
  "language_info": {
   "codemirror_mode": {
    "name": "ipython",
    "version": 3
   },
   "file_extension": ".py",
   "mimetype": "text/x-python",
   "name": "python",
   "nbconvert_exporter": "python",
   "pygments_lexer": "ipython3",
   "version": "3.11.4"
  },
  "orig_nbformat": 4
 },
 "nbformat": 4,
 "nbformat_minor": 2
}
