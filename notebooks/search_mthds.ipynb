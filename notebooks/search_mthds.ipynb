{
 "cells": [
  {
   "cell_type": "markdown",
   "metadata": {},
   "source": [
    "### Includes functions that are used to search and create a dataframe for PubMed articles based on their grant number\n",
    "#### Main program that references these functions is included in mainpgrm notebook"
   ]
  },
  {
   "cell_type": "code",
   "execution_count": 3,
   "metadata": {},
   "outputs": [],
   "source": [
    "import requests\n",
    "from bs4 import BeautifulSoup \n",
    "import lxml\n",
    "import json\n",
    "import pandas as pd\n"
   ]
  },
  {
   "cell_type": "markdown",
   "metadata": {},
   "source": [
    "#### Get PubMed IDs"
   ]
  },
  {
   "cell_type": "code",
   "execution_count": 4,
   "metadata": {},
   "outputs": [],
   "source": [
    "#Take in the grant number as a string, and return the PubMed article ids associated with that grant number\n",
    "#If no articles come up during the search, return none\n",
    "\n",
    "def return_ids(grant_num):\n",
    "    rsp = requests.get(f'https://eutils.ncbi.nlm.nih.gov/entrez/eutils/esearch.fcgi?db=pubmed&retmode=json&mindate=2020&maxdate=2023&retmax=70&term={grant_num}[Grant Number]')\n",
    "    info = rsp.json() #convert the information from the response into a json to make it easily accessible\n",
    "    ids = info['esearchresult']['idlist'] #grab the id list from the json information\n",
    "    if ids != []:\n",
    "        return ids #return id list\n",
    "    else:\n",
    "        return \"Nothing found\" #if there are no papers found, return Nothing found"
   ]
  },
  {
   "cell_type": "markdown",
   "metadata": {},
   "source": [
    "#### Get Summary Information"
   ]
  },
  {
   "cell_type": "code",
   "execution_count": 5,
   "metadata": {},
   "outputs": [],
   "source": [
    "#Function that takes in a list of PubMed Ids and returns the summary information for the articles associated with those IDs; returns a dictionary\n",
    "#Can use this function in conjunction with returnIDs() function to go from grant number to article summaries\n",
    "#The summary information includes a variety of information such as titles for all articles, authors, identifiers and more\n",
    "\n",
    "def get_summary(idList):\n",
    "    rsp = requests.get(f\"https://eutils.ncbi.nlm.nih.gov/entrez/eutils/esummary.fcgi?db=pubmed&retmode=json&id={','.join(idList)}\") #use join here to make list of ids into one comma separated string\n",
    "    info = rsp.json() #convert the response information to easily accessible json info\n",
    "    return info"
   ]
  },
  {
   "cell_type": "markdown",
   "metadata": {},
   "source": [
    "#### Get Titles"
   ]
  },
  {
   "cell_type": "code",
   "execution_count": 6,
   "metadata": {},
   "outputs": [],
   "source": [
    "#Function that takes in the summary of all articles given by the ids and returns a dictionary with the title of each article\n",
    "\n",
    "def get_titles(summary):\n",
    "    uids = summary['result']['uids'] #gives the list of unique ids for all articles in the summary\n",
    "    title_dict = {}\n",
    "    for id in uids:\n",
    "        title_dict[id] = summary['result'][id]['title']\n",
    "        #This grabs the title, summary is the information retrieved by esummary, 'results' is the key for the paper's info\n",
    "        #within 'results' is each id and their corresponding info, within each id we can grab the info we want, in this case, the paper title\n",
    "    return title_dict\n",
    "    "
   ]
  },
  {
   "cell_type": "markdown",
   "metadata": {},
   "source": [
    "#### Get Authors"
   ]
  },
  {
   "cell_type": "code",
   "execution_count": 7,
   "metadata": {},
   "outputs": [],
   "source": [
    "#Function that takes in the summary of all the articles and returns a dictionary containing the authors of each article\n",
    "\n",
    "def get_authors(summary):\n",
    "    uids = summary['result']['uids'] #gives the list of unique ids\n",
    "    author_dict = {} #create an empty dictionary that will store the authors by pubmed id\n",
    "    for id in uids: #parse through each article given by the search via their ids\n",
    "        authors = summary['result'][id]['authors'] #this line accesses the authors list\n",
    "        auth_ls = [] #define an empty list where the author names will be kept\n",
    "        for author in authors: #append each author for the current article\n",
    "            auth_ls.append(author['name'])\n",
    "        author_dict[id] = auth_ls\n",
    "    return author_dict\n",
    "    "
   ]
  },
  {
   "cell_type": "markdown",
   "metadata": {},
   "source": [
    "#### Get Identifier (DOI, PMCID)"
   ]
  },
  {
   "cell_type": "code",
   "execution_count": 8,
   "metadata": {},
   "outputs": [],
   "source": [
    "#Function that takes in the summary of all the articles and returns a dictioanry containing the chosen identifier of each article \n",
    "#Valid identifier args: 'doi' , 'pmc'\n",
    "\n",
    "def get_identifier(summary, identifier):\n",
    "    uids = summary['result']['uids'] #gives the list of unique ids\n",
    "    identifier_dict = {}\n",
    "    for id in uids:\n",
    "        id_types_dict = summary['result'][id]['articleids']\n",
    "        for dict in id_types_dict: #parse through article id dictionaries for each identifier\n",
    "            if dict['idtype'] == identifier: #grab the specified identifier within the id dictionary if the id type matches the identifier specified in the function argument\n",
    "                if identifier == 'doi': #special case for dois\n",
    "                    identifier_dict[id] = 'doi:' + dict['value']\n",
    "                else:\n",
    "                    identifier_dict[id] = dict['value']\n",
    "    return identifier_dict\n"
   ]
  },
  {
   "cell_type": "markdown",
   "metadata": {},
   "source": [
    "#### Get Parsable Soup Object"
   ]
  },
  {
   "cell_type": "code",
   "execution_count": 9,
   "metadata": {},
   "outputs": [],
   "source": [
    "#Function that takes in a list of PubMed IDs and creates a beautiful soup object from the articles returned by EFETCH. EFETCH returns information related to articles given by the search; this function\n",
    "#is meant give a parsable bs4 object that can be used to extract more specific information related to the articles found (keywords, mesh ids, etc). The function returns a beautiful soup object with the articles\n",
    "#returned from the search.\n",
    "#This will eliminate any issues of sending to many requests by calling the function multiple times in a loop; create one soup object to use\n",
    "\n",
    "def get_article_soup(id_list):\n",
    "    rsp = requests.get(f\"https://eutils.ncbi.nlm.nih.gov/entrez/eutils/efetch.fcgi?db=pubmed&retmode=xml&id={','.join(id_list)}\")\n",
    "    articles_soup = BeautifulSoup(rsp.content, features = 'xml') #create a beautiful soup object out of the response, this will hold all information for the articles\n",
    "    return articles_soup"
   ]
  },
  {
   "cell_type": "markdown",
   "metadata": {},
   "source": [
    "#### Get Keywords, Mesh IDs or Mesh Terms"
   ]
  },
  {
   "cell_type": "code",
   "execution_count": 10,
   "metadata": {},
   "outputs": [],
   "source": [
    "#Function that takes in a beatiful soup object for parsing and the information you want to extract, gets a batch of information from PubMed that includes information about the articles for those IDs\n",
    "#efetch API is used to grab article information; the function then converts the information into a beautiful soup object, and then it parses through\n",
    "#the article information to get the specified information\n",
    "#Arguments for info_type: 'keywords' , 'mesh_ids', 'mesh_terms'\n",
    "\n",
    "def get_article_info(soup_obj, info_type): \n",
    "    articles_iterable = soup_obj.find_all('PubmedArticle') #Creates an iterable for all of the articles in the ID list\n",
    "    tmp_info_dict = {} #create empty dictionary to hold the specified information extracted for each PubMed article\n",
    "    for article in articles_iterable: #parse through each 'PubmedArticle' tag (each article in the search)\n",
    "        id = article.find('PMID').text #grab the pubmed id for the current article\n",
    "        if info_type == 'keywords':\n",
    "            keywordList = article.find_all('Keyword') #get the keywords for the current article\n",
    "            new_keywords = [x.text for x in keywordList] #convert the keyword tags into text/a list of strings\n",
    "            tmp_info_dict[id] = new_keywords\n",
    "        elif info_type == 'mesh_ids':\n",
    "            mesh_list = article.find_all('MeshHeading') #get the tags for mesh terms in a parsable bs4 object\n",
    "            mesh_ids = [term.find('DescriptorName')['UI'] for term in mesh_list] #grab the mesh id numbers and put them into a list\n",
    "            tmp_info_dict[id] = mesh_ids\n",
    "        elif info_type == 'mesh_terms':\n",
    "            mesh_term_list = article.find_all('MeshHeading') #get the tags for mesh terms in a parsable bs4 object\n",
    "            mesh_terms = [m_term.find('DescriptorName').text for m_term in mesh_term_list] #grab the mesh term and put them into a list\n",
    "            tmp_info_dict[id] = mesh_terms\n",
    "    return tmp_info_dict  #return the specified information \n",
    "\n",
    "\n",
    "\n"
   ]
  },
  {
   "cell_type": "markdown",
   "metadata": {},
   "source": [
    "#### Get Journal Name"
   ]
  },
  {
   "cell_type": "code",
   "execution_count": 11,
   "metadata": {},
   "outputs": [],
   "source": [
    "#Function that takes in the search summary for all articles related to a grant number and grabs their journal name and returns them in a dictionary\n",
    "\n",
    "def get_journal(summary):\n",
    "    uids = summary['result']['uids'] #gives the list of unique ids for all articles in the summary\n",
    "    journal_dict = {}\n",
    "    for id in uids:\n",
    "        journal_dict[id] = summary['result'][id]['fulljournalname'] #this line accesses the nested dictionary value for the journal name\n",
    "    return journal_dict"
   ]
  },
  {
   "cell_type": "markdown",
   "metadata": {},
   "source": [
    "#### Get Publication Year"
   ]
  },
  {
   "cell_type": "code",
   "execution_count": 12,
   "metadata": {},
   "outputs": [],
   "source": [
    "#Function that tatkes in the search summary for all articles related to a grant number and grabs the publication year for each article\n",
    "#Returns a dictionary with all articles and their respective publication year\n",
    "\n",
    "def get_publication_yr(summary):\n",
    "    uids = summary['result']['uids'] #gives the list of unique ids for all articles in the summary\n",
    "    year_dict = {}\n",
    "    for id in uids:\n",
    "        year_dict[id] = summary['result'][id]['pubdate'][:4] #this line accesses the nested dictionary and gets the publication year\n",
    "    return year_dict"
   ]
  },
  {
   "cell_type": "code",
   "execution_count": null,
   "metadata": {},
   "outputs": [],
   "source": []
  }
 ],
 "metadata": {
  "kernelspec": {
   "display_name": "base",
   "language": "python",
   "name": "python3"
  },
  "language_info": {
   "codemirror_mode": {
    "name": "ipython",
    "version": 3
   },
   "file_extension": ".py",
   "mimetype": "text/x-python",
   "name": "python",
   "nbconvert_exporter": "python",
   "pygments_lexer": "ipython3",
   "version": "3.11.4"
  },
  "orig_nbformat": 4
 },
 "nbformat": 4,
 "nbformat_minor": 2
}
