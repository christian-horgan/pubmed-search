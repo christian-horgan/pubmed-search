{
 "cells": [
  {
   "cell_type": "markdown",
   "metadata": {},
   "source": [
    "# Main Program\n",
    "## Search PubMed with a given list of grant numbers\n",
    "#### All functions used can be referenced in search_mthds notebook "
   ]
  },
  {
   "cell_type": "code",
   "execution_count": 26,
   "metadata": {},
   "outputs": [],
   "source": [
    "%run search_mthds.ipynb\n",
    "\n",
    "import pandas as pd\n",
    "import time\n",
    "from tqdm import tqdm\n",
    "\n",
    "template_df = pd.DataFrame(columns = ['title', 'pmc_id', 'authors', 'doi', 'keywords', 'mesh_ids', 'mesh_terms', 'abstract', 'project_serial_num', 'journal_name', 'publication_year']) #create an empty dataframe where grant article info will be stored\n",
    "grant_list = ['AA029328','AA029331', 'AA029345','AA029324','AA029316','AA029348','DC019579','DC019578','DC019573','DC016112','TR003780',\n",
    "'TR003807','TR003793','HL119145','NR020105','DE031114','MD016526','DK130067','HL150852','DE030841','DE030842','HL152410',\n",
    "'HL152401','DE030829','DE030852','DE030832','HD105618', 'HD105593','HD105594','HD105591','HD105619','HD105590','HD105613',\n",
    "'HD105610','TR003775','TR003795','TR003787','TR003812','DA053976','DA053949','DA053941','DA053903','DA053893','LM013129','DA053899',\n",
    "'ES103366', 'LM013755']\n",
    "#grant list is subject to change and can be more general, but this form of grant numbers give the best results\n"
   ]
  },
  {
   "cell_type": "markdown",
   "metadata": {},
   "source": [
    "### Main loop creating data table"
   ]
  },
  {
   "cell_type": "code",
   "execution_count": 27,
   "metadata": {},
   "outputs": [
    {
     "name": "stderr",
     "output_type": "stream",
     "text": [
      "100%|██████████| 47/47 [01:35<00:00,  2.03s/it]\n"
     ]
    }
   ],
   "source": [
    "for grant in tqdm(grant_list): #Create a loop to iterate and gather information for each grant number from the list\n",
    "    my_ids = return_ids(grant) #grab article PubMed ID list\n",
    "    if my_ids == 'Nothing Found': #move onto the next grant number if no articles were found\n",
    "        time.sleep(1)\n",
    "        continue\n",
    "    art_summary = get_summary(my_ids) #gather all article information via esummary\n",
    "    tmp_soup_obj = get_article_soup(my_ids) #get a parsable beautiful soup object that can be used in any functions (for get_article_info())\n",
    "    titles = get_titles(art_summary) #gather titles of all articles; return dictionary \n",
    "    authors = get_authors(art_summary) #gather authors of all articles\n",
    "    dois = get_identifier(art_summary, 'doi') #gather all dois and additional article identifier if available\n",
    "    pmc_ids = get_identifier(art_summary, 'pmc') #gather all pmc ids for all articles associated with the current grant number\n",
    "    keywords = get_article_info(tmp_soup_obj, 'keywords') #gather all keywords for each article\n",
    "    mesh_ids = get_article_info(tmp_soup_obj, 'mesh_ids') #gather the mesh id numbers for each article\n",
    "    mesh_terms = get_article_info(tmp_soup_obj, 'mesh_terms') #gather the mesh terms for each article\n",
    "    abstracts = get_article_info(tmp_soup_obj, 'abstracts') #gather the abstract for each article\n",
    "    journals = get_journal(art_summary)\n",
    "    publication_yrs = get_publication_yr(art_summary)\n",
    "    mydf = pd.DataFrame.from_dict(titles, orient='index', columns = ['title']) #initialize a blank dataframe with PubMed ids as row indices and a title column\n",
    "    mydf['pmc_id'] = pd.Series(pmc_ids) #use pd.Series because it maintains the dict keys as indices and the values as the index-values (ex. index = pm_id, value = pmc_id)\n",
    "    mydf['authors'] = pd.Series(authors) #add each column with the stored information above\n",
    "    mydf['doi'] = pd.Series(dois)\n",
    "    mydf['keywords'] = pd.Series(keywords)\n",
    "    mydf['mesh_ids'] = pd.Series(mesh_ids)\n",
    "    mydf['mesh_terms'] = pd.Series(mesh_terms)\n",
    "    mydf['abstract'] = pd.Series(abstracts)\n",
    "    mydf['project_serial_num'] = grant #make a new column with the grant number that corresponds to the current iteration of articles\n",
    "    mydf['journal_name'] = pd.Series(journals)\n",
    "    mydf['publication_year'] = pd.Series(publication_yrs)\n",
    "    template_df = pd.concat([template_df, mydf], ignore_index = False) #append the current df to template dataframe\n",
    "    time.sleep(1) #need to wait to avoid hitting the limit of 3 requests per second\n",
    "\n"
   ]
  },
  {
   "cell_type": "markdown",
   "metadata": {},
   "source": [
    "### Write the dataframe to a csv file in your current working directory"
   ]
  },
  {
   "cell_type": "code",
   "execution_count": 28,
   "metadata": {},
   "outputs": [],
   "source": [
    "#UNCOMMENT THIS LINE TO WRITE THE DATAFRAME TO CSV\n",
    "\n",
    "#template_df.to_csv('article_data_current.csv')"
   ]
  },
  {
   "cell_type": "code",
   "execution_count": null,
   "metadata": {},
   "outputs": [],
   "source": []
  }
 ],
 "metadata": {
  "kernelspec": {
   "display_name": "base",
   "language": "python",
   "name": "python3"
  },
  "language_info": {
   "codemirror_mode": {
    "name": "ipython",
    "version": 3
   },
   "file_extension": ".py",
   "mimetype": "text/x-python",
   "name": "python",
   "nbconvert_exporter": "python",
   "pygments_lexer": "ipython3",
   "version": "3.11.6"
  },
  "orig_nbformat": 4
 },
 "nbformat": 4,
 "nbformat_minor": 2
}
