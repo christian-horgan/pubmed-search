{
 "cells": [
  {
   "cell_type": "markdown",
   "metadata": {},
   "source": [
    "### Includes functions that are used to search and create a dataframe for PubMed articles based on their grant number\n",
    "#### Main program that references these functions is included in mainpgrm notebook"
   ]
  },
  {
   "cell_type": "code",
   "execution_count": 1,
   "metadata": {},
   "outputs": [],
   "source": [
    "import requests\n",
    "from bs4 import BeautifulSoup \n",
    "import lxml\n",
    "import xmltodict\n",
    "import json\n",
    "import pandas as pd\n"
   ]
  },
  {
   "cell_type": "markdown",
   "metadata": {},
   "source": [
    "#### Get PubMed IDs"
   ]
  },
  {
   "cell_type": "code",
   "execution_count": 13,
   "metadata": {},
   "outputs": [],
   "source": [
    "#Take in the grant number as a string, and return the PubMed article ids associated with that grant number\n",
    "#If no articles come up during the search, return none\n",
    "\n",
    "def return_ids(grant_num):\n",
    "    rsp = requests.get(f'https://eutils.ncbi.nlm.nih.gov/entrez/eutils/esearch.fcgi?db=pubmed&retmode=json&mindate=2020&maxdate=2023&retmax=70&term={grant_num}[Grant Number]')\n",
    "    info = rsp.json() #convert the information from the response into a json to make it easily accessible\n",
    "    ids = info['esearchresult']['idlist'] #grab the id list from the json information\n",
    "    if ids != []:\n",
    "        return ids #return id list\n",
    "    else:\n",
    "        return \"Nothing found\" #if there are no papers found, return Nothing found"
   ]
  },
  {
   "cell_type": "markdown",
   "metadata": {},
   "source": [
    "#### Get Summary Information"
   ]
  },
  {
   "cell_type": "code",
   "execution_count": 3,
   "metadata": {},
   "outputs": [],
   "source": [
    "#Function that takes in a list of PubMed Ids and returns the summary information for the articles associated with those IDs; returns a dictionary\n",
    "#Can use this function in conjunction with returnIDs() function to go from grant number to article summaries\n",
    "#The summary information includes a variety of information such as titles for all articles, authors, identifiers and more\n",
    "\n",
    "def get_summary(idList):\n",
    "    rsp = requests.get(f\"https://eutils.ncbi.nlm.nih.gov/entrez/eutils/esummary.fcgi?db=pubmed&retmode=json&id={','.join(idList)}\") #use join here to make list of ids into one comma separated string\n",
    "    info = rsp.json() #convert the response information to easily accessible json info\n",
    "    return info"
   ]
  },
  {
   "cell_type": "markdown",
   "metadata": {},
   "source": [
    "#### Get Titles"
   ]
  },
  {
   "cell_type": "code",
   "execution_count": 4,
   "metadata": {},
   "outputs": [],
   "source": [
    "#Function that takes in the summary of all articles given by the ids and returns a dictionary with the title of each article\n",
    "\n",
    "def get_titles(summary):\n",
    "    uids = summary['result']['uids'] #gives the list of unique ids for all articles in the summary\n",
    "    title_dict = {}\n",
    "    for id in uids:\n",
    "        title_dict[id] = summary['result'][id]['title']\n",
    "        #This grabs the title, summary is the information retrieved by esummary, 'results' is the key for the paper's info\n",
    "        #within 'results' is each id and their corresponding info, within each id we can grab the info we want, in this case, the paper title\n",
    "    return title_dict\n",
    "    "
   ]
  },
  {
   "cell_type": "markdown",
   "metadata": {},
   "source": [
    "#### Get Authors"
   ]
  },
  {
   "cell_type": "code",
   "execution_count": 5,
   "metadata": {},
   "outputs": [],
   "source": [
    "#Function that takes in the summary of all the articles and returns a dictionary containing the authors of each article\n",
    "\n",
    "def get_authors(summary):\n",
    "    uids = summary['result']['uids'] #gives the list of unique ids\n",
    "    author_dict = {} #create an empty dictionary that will store the authors by pubmed id\n",
    "    for id in uids: #parse through each article given by the search via their ids\n",
    "        authors = summary['result'][id]['authors'] #this line accesses the authors list\n",
    "        auth_ls = [] #define an empty list where the author names will be kept\n",
    "        for author in authors: #append each author for the current article\n",
    "            auth_ls.append(author['name'])\n",
    "        author_dict[id] = auth_ls\n",
    "    return author_dict\n",
    "    "
   ]
  },
  {
   "cell_type": "markdown",
   "metadata": {},
   "source": [
    "#### Get DOIs"
   ]
  },
  {
   "cell_type": "code",
   "execution_count": 6,
   "metadata": {},
   "outputs": [],
   "source": [
    "#Function that takes in the summary of all the articles and returns a dictioanry containing the doi of each article\n",
    "\n",
    "def get_doi(summary):\n",
    "    uids = summary['result']['uids'] #gives the list of unique ids\n",
    "    doi_dict = {}\n",
    "    for id in uids:\n",
    "        doi_dict[id] = summary['result'][id]['elocationid'] #grab the identifier from the list of information, place it into a dictionary\n",
    "    return doi_dict\n",
    "    "
   ]
  },
  {
   "cell_type": "markdown",
   "metadata": {},
   "source": [
    "#### Get Keywords"
   ]
  },
  {
   "cell_type": "code",
   "execution_count": 7,
   "metadata": {},
   "outputs": [],
   "source": [
    "#Function that takes in a list of PubMed IDs, gets a batch of information from PubMed that includes information about the articles for those IDs\n",
    "#efetch API is used to grab article information, converts the information into a beautiful soup object, and then it parses through\n",
    "#the article information to get the keywords for each article\n",
    "\n",
    "def get_keywords(idList): \n",
    "    rsp = requests.get(f\"https://eutils.ncbi.nlm.nih.gov/entrez/eutils/efetch.fcgi?db=pubmed&retmode=xml&id={','.join(idList)}\")\n",
    "    articles_bs = BeautifulSoup(rsp.content, features = 'xml') #create a beautiful soup object out of the response, this will hold all information for the articles\n",
    "    articles_iterable = articles_bs.find_all('PubmedArticle') #Creates an iterable for all of the articles in the ID list\n",
    "    keyword_dict = {}\n",
    "    for article in articles_iterable: #parse through each 'PubmedArticle' tag (each article in the search)\n",
    "        id = article.find('PMID').text #grab the pubmed id for the current article\n",
    "        keywordList = article.find_all('Keyword') #get the keywords for the current article\n",
    "        new_keywords = [x.text for x in keywordList] #convert the keyword tags into text/a list of strings\n",
    "        if keywordList == []: #accounts for articles with no keywords\n",
    "            keyword_dict[id] = 'No keywords'\n",
    "        else:\n",
    "            keyword_dict[id] = new_keywords\n",
    "    return keyword_dict\n",
    "\n",
    "\n"
   ]
  },
  {
   "cell_type": "markdown",
   "metadata": {},
   "source": [
    "#### Get Journal Name"
   ]
  },
  {
   "cell_type": "code",
   "execution_count": 8,
   "metadata": {},
   "outputs": [],
   "source": [
    "#Function that takes in the search summary for all articles related to a grant number and grabs their journal name and returns them in a dictionary\n",
    "\n",
    "def get_journal(summary):\n",
    "    uids = summary['result']['uids'] #gives the list of unique ids for all articles in the summary\n",
    "    journal_dict = {}\n",
    "    for id in uids:\n",
    "        journal_dict[id] = summary['result'][id]['fulljournalname'] #this line accesses the nested dictionary value for the journal name\n",
    "    return journal_dict"
   ]
  },
  {
   "cell_type": "markdown",
   "metadata": {},
   "source": [
    "#### Get Publication Year"
   ]
  },
  {
   "cell_type": "code",
   "execution_count": 9,
   "metadata": {},
   "outputs": [],
   "source": [
    "#Function that tatkes in the search summary for all articles related to a grant number and grabs the publication year for each article\n",
    "#Returns a dictionary with all articles and their respective publication year\n",
    "\n",
    "def get_publication_yr(summary):\n",
    "    uids = summary['result']['uids'] #gives the list of unique ids for all articles in the summary\n",
    "    year_dict = {}\n",
    "    for id in uids:\n",
    "        year_dict[id] = summary['result'][id]['pubdate'][:4] #this line accesses the nested dictionary and gets the publication year\n",
    "    return year_dict"
   ]
  },
  {
   "cell_type": "code",
   "execution_count": 14,
   "metadata": {},
   "outputs": [
    {
     "data": {
      "text/plain": [
       "{'37428010': '2023',\n",
       " '37226730': '2023',\n",
       " '37039628': '2023',\n",
       " '37028977': '2023',\n",
       " '36949045': '2023',\n",
       " '36794589': '2023',\n",
       " '36565787': '2023',\n",
       " '36275710': '2022',\n",
       " '36043417': '2022',\n",
       " '36040468': '2022',\n",
       " '35962845': '2022',\n",
       " '35924558': '2022',\n",
       " '35843734': '2022',\n",
       " '35599981': '2022',\n",
       " '35466998': '2022',\n",
       " '35443763': '2022',\n",
       " '35379853': '2022',\n",
       " '35312466': '2022',\n",
       " '35312360': '2022',\n",
       " '35211681': '2022',\n",
       " '35142398': '2022',\n",
       " '34789851': '2021',\n",
       " '34775044': '2021',\n",
       " '34746796': '2021',\n",
       " '34657041': '2022',\n",
       " '34636650': '2021',\n",
       " '34579115': '2021',\n",
       " '34545358': '2021',\n",
       " '34514084': '2021',\n",
       " '34476401': '2021',\n",
       " '34387240': '2022',\n",
       " '34365067': '2021',\n",
       " '34270923': '2021',\n",
       " '34038701': '2021',\n",
       " '33988876': '2021',\n",
       " '33906951': '2021',\n",
       " '33890812': '2021',\n",
       " '33861689': '2021',\n",
       " '33856918': '2021',\n",
       " '33833034': '2021',\n",
       " '37117448': '2021',\n",
       " '33558758': '2021',\n",
       " '33558530': '2021',\n",
       " '33555777': '2021',\n",
       " '33523764': '2021',\n",
       " '33243385': '2020',\n",
       " '33165538': '2021',\n",
       " '33050894': '2020',\n",
       " '33046794': '2020',\n",
       " '33016102': '2020',\n",
       " '32835810': '2020',\n",
       " '32798637': '2020',\n",
       " '32663413': '2020',\n",
       " '32646896': '2020',\n",
       " '32638415': '2020',\n",
       " '32552164': '2020',\n",
       " '32550253': '2020',\n",
       " '32453600': '2020',\n",
       " '32307915': '2020',\n",
       " '32287042': '2020',\n",
       " '31982629': '2020',\n",
       " '34123272': '2020',\n",
       " '31895052': '2020'}"
      ]
     },
     "execution_count": 14,
     "metadata": {},
     "output_type": "execute_result"
    }
   ],
   "source": [
    "test_sum = get_summary(return_ids('HL119145'))\n",
    "get_publication_yr(test_sum)"
   ]
  },
  {
   "cell_type": "code",
   "execution_count": null,
   "metadata": {},
   "outputs": [],
   "source": []
  }
 ],
 "metadata": {
  "kernelspec": {
   "display_name": "base",
   "language": "python",
   "name": "python3"
  },
  "language_info": {
   "codemirror_mode": {
    "name": "ipython",
    "version": 3
   },
   "file_extension": ".py",
   "mimetype": "text/x-python",
   "name": "python",
   "nbconvert_exporter": "python",
   "pygments_lexer": "ipython3",
   "version": "3.11.4"
  },
  "orig_nbformat": 4
 },
 "nbformat": 4,
 "nbformat_minor": 2
}
